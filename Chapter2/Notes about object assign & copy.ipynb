{
 "metadata": {
  "name": ""
 },
 "nbformat": 3,
 "nbformat_minor": 0,
 "worksheets": [
  {
   "cells": [
    {
     "cell_type": "code",
     "collapsed": false,
     "input": [
      "%pylab inline\n",
      "import numpy as np"
     ],
     "language": "python",
     "metadata": {},
     "outputs": [
      {
       "output_type": "stream",
       "stream": "stdout",
       "text": [
        "Populating the interactive namespace from numpy and matplotlib\n"
       ]
      }
     ],
     "prompt_number": 74
    },
    {
     "cell_type": "markdown",
     "metadata": {},
     "source": [
      "First we make an object that is large and preferrably not copied often."
     ]
    },
    {
     "cell_type": "code",
     "collapsed": false,
     "input": [
      "a = np.random.random(10000)"
     ],
     "language": "python",
     "metadata": {},
     "outputs": [],
     "prompt_number": 75
    },
    {
     "cell_type": "markdown",
     "metadata": {},
     "source": [
      "The following code defines a new *pointer* to the above array, not actually copying the data. It can be seen that changing the content of `a` now changes the content of `b`"
     ]
    },
    {
     "cell_type": "code",
     "collapsed": false,
     "input": [
      "b = a\n",
      "print a[10]  \n",
      "print b[10]\n",
      "a[10] = 100.0  # Changing a[10] also changes b[10]\n",
      "print b[10]"
     ],
     "language": "python",
     "metadata": {},
     "outputs": [
      {
       "output_type": "stream",
       "stream": "stdout",
       "text": [
        "0.255123372086\n",
        "0.255123372086\n",
        "100.0\n"
       ]
      }
     ],
     "prompt_number": 76
    },
    {
     "cell_type": "markdown",
     "metadata": {},
     "source": [
      "This can test if two objects are actually the same object (changing one's content will change the content of the other)"
     ]
    },
    {
     "cell_type": "code",
     "collapsed": false,
     "input": [
      "b is a"
     ],
     "language": "python",
     "metadata": {},
     "outputs": [
      {
       "metadata": {},
       "output_type": "pyout",
       "prompt_number": 77,
       "text": [
        "True"
       ]
      }
     ],
     "prompt_number": 77
    },
    {
     "cell_type": "markdown",
     "metadata": {},
     "source": [
      "The following code *copies* the object `a` to `d`, now changing the content of `a` will not affect the content of `d`"
     ]
    },
    {
     "cell_type": "code",
     "collapsed": false,
     "input": [
      "print a[100]\n",
      "d = a.copy()\n",
      "a[100] = 3.0  # Changing a[100] will not affect d[100]\n",
      "print d[100]\n",
      "d is a"
     ],
     "language": "python",
     "metadata": {},
     "outputs": [
      {
       "output_type": "stream",
       "stream": "stdout",
       "text": [
        "0.502797630281\n",
        "0.502797630281\n"
       ]
      },
      {
       "metadata": {},
       "output_type": "pyout",
       "prompt_number": 78,
       "text": [
        "False"
       ]
      }
     ],
     "prompt_number": 78
    },
    {
     "cell_type": "markdown",
     "metadata": {},
     "source": [
      "The following code is a little more tricky. The slice operation in the latest numpy creates a new view of the same data instead of copying the slice and assign it to the new array (Thanks Adrian for pointing that out). Therefore in the code below `c` is not the same as `a`, but its content does change when `a` is modified. To know whether a numpy array is a view or not, one needs to look at the `base` object."
     ]
    },
    {
     "cell_type": "code",
     "collapsed": false,
     "input": [
      "print a[70]\n",
      "c = a[:]  # c is now a view of a, therefore any changes in a can be seen from c\n",
      "a[70] = 4.0\n",
      "print c[70]\n",
      "print a is c\n",
      "print a is c.base  # Since c is a view of a, you can see that by comparing c.base with a"
     ],
     "language": "python",
     "metadata": {},
     "outputs": [
      {
       "output_type": "stream",
       "stream": "stdout",
       "text": [
        "4.0\n",
        "4.0\n",
        "False\n",
        "True\n"
       ]
      }
     ],
     "prompt_number": 84
    },
    {
     "cell_type": "markdown",
     "metadata": {},
     "source": [
      "The point of the above comparison is that, when you want to do a copy of a numpy array `foo` (or really anything in python), don't use an assignment operation. Use `foo.copy()` instead and assign it to the object you want. "
     ]
    }
   ],
   "metadata": {}
  }
 ]
}
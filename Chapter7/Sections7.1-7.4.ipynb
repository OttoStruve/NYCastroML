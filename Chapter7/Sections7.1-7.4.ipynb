{
 "metadata": {
  "name": ""
 },
 "nbformat": 3,
 "nbformat_minor": 0,
 "worksheets": [
  {
   "cells": [
    {
     "cell_type": "heading",
     "level": 1,
     "metadata": {},
     "source": [
      "7.1 The Curse of Dimensionality"
     ]
    },
    {
     "cell_type": "markdown",
     "metadata": {},
     "source": [
      "<img src=\"http://yaroslavvb.com/research/reports/curse-of-dim/pics/sphere.gif\">\n",
      "\n",
      "The ratio between (1) a hypersphere with radius r and (2) a hypercube with sides of length 2r, in D dimensions:\n",
      "\n",
      "$f_2\\approx78.5\\%$\n",
      "\n",
      "$f_3\\approx52.3\\%$\n",
      "\n",
      "$f_D=\\frac{V_D(r)}{2r^D}=\\frac{\\pi^{D/2}}{D2^{D-1}\\Gamma(D/2)}$\n",
      "\n",
      "$\\lim_{D \\to \\inf} f_D = 0$\n",
      "\n",
      "E.g. for a sample of $3.57\\times10^{8}$ SDSS spectra, each described by 30 attributes (flux, size, ellipticity, etc.), the probability of having one source reside within the hypersphere would be only $7\\times10^{-6}$.\n",
      "\n"
     ]
    },
    {
     "cell_type": "code",
     "collapsed": false,
     "input": [
      "from scipy import *\n",
      "import numpy as np\n",
      "from scipy import special\n",
      "from pylab import *\n",
      "%matplotlib inline\n",
      "\n",
      "D = arange(2,50)\n",
      "fD = pi**(D/2)/(D*2.0**(D-1.0)*special.gamma(D/2.0))\n",
      "loglog(D, fD, linewidth=3)\n",
      "xlabel('D')\n",
      "ylabel('$f_D$')\n",
      "show()\n"
     ],
     "language": "python",
     "metadata": {},
     "outputs": [
      {
       "metadata": {},
       "output_type": "display_data",
       "png": "[encoded data removed]",
       "text": [
        "<matplotlib.figure.Figure at 0x103a9f490>"
       ]
      }
     ],
     "prompt_number": 12
    },
    {
     "cell_type": "heading",
     "level": 3,
     "metadata": {},
     "source": [
      "<u>``Intrinsic dimensionality'' come to resecue!</u><br>\n",
      "Find these dimensions or axes to reduce the dimensionality of the data."
     ]
    },
    {
     "cell_type": "heading",
     "level": 1,
     "metadata": {},
     "source": [
      "7.2 The Data Sets Used in This Chapter"
     ]
    },
    {
     "cell_type": "markdown",
     "metadata": {},
     "source": [
      "<a class=\"reference internal image-reference\" href=\"http://www.astroml.org/_images/fig_spec_examples_1.png\"><img alt=\"../../_images/fig_spec_examples_1.png\" class=\"align-center\" src=\"http://www.astroml.org/_images/fig_spec_examples_1.png\" style=\"width: 500.0px; height: 400.0px;\" /></a><p>Figure 7.1</p>\n",
      "<p>A sample of 15 galaxy spectra selected from the SDSS spectroscopic data set\n",
      "(see Section 1.5.5). These spectra span a range of galaxy types, from\n",
      "star-forming to passive galaxies. Each spectrum has been shifted to its rest\n",
      "frame and covers the wavelength interval 3000-8000 Angstroms. The specific\n",
      "fluxes, <img class=\"math\" src=\"http://www.astroml.org/_images/math/832cd0d9dc73b2a4d16fa92d6500d2dcacb1df60.png\" alt=\"F_\\lambda(\\lambda)\"/>, on the ordinate axes have an arbitrary\n",
      "scaling. There are 1000 wavelength bins (or 1000 dimensions).</p>\n"
     ]
    },
    {
     "cell_type": "heading",
     "level": 1,
     "metadata": {},
     "source": [
      "7.3 Principal Component Analysis (PCA)"
     ]
    },
    {
     "cell_type": "markdown",
     "metadata": {},
     "source": [
      "<strong>PCA Steps</strong>: First, find the first axis that maximize the variance of the data. Then, find a second axis that is orthogonal to the first axis and maximize the residual variance, and so on. \n",
      "\n",
      "<img src=\"http://georgemdallas.files.wordpress.com/2013/10/pca3.jpg?w=400\">\n",
      "Find principal components for these data.\n",
      "\n",
      "<img src=\"http://georgemdallas.files.wordpress.com/2013/10/pca9.jpg?w=400\"> \n",
      "Nah.\n",
      "\n",
      "<img src=\"http://georgemdallas.files.wordpress.com/2013/10/pca8.jpg?w=400\">\n",
      "Good!"
     ]
    },
    {
     "cell_type": "markdown",
     "metadata": {},
     "source": [
      "<img src=\"http://www.astroml.org/_images/fig_PCA_rotation_1.png\" style=\"width: 500.0px; height: 500.0px;\">\n",
      "<p>Figure 7.2</p>\n",
      "<p>A distribution of points drawn from a bivariate Gaussian and centered on the\n",
      "origin of x and y. PCA defines a rotation such that the new axes (x&#8217; and y&#8217;)\n",
      "are aligned along the directions of maximal variance (the principal components)\n",
      "with zero covariance. This is equivalent to minimizing the square of the\n",
      "perpendicular distances between the points and the principal components.</p>\n"
     ]
    },
    {
     "cell_type": "markdown",
     "metadata": {},
     "source": [
      "**3 ways to do PCA**\n",
      "\n",
      "+ SVD of $X$\n",
      "+ eigenvalue decomposition of $C_X$\n",
      "+ eigenvalue decomposition of $M_X$\n",
      "\n",
      "$X$ is a $N \\times K$ matrix, of $N$ observations and $K$ features (dimensions). \n",
      "\n",
      "$X$ can be decomposed to:\n",
      "\n",
      "$U\\Sigma V^T = \\frac {1} {\\sqrt{N-1}}X$, where $V^T$ and $U$ are rotations, and $\\Sigma$ is a scaling.\n",
      "\n",
      "$C_X = \\frac{1}{N-1}X^TX = R C_Y R^T = R \\Sigma^2 R$ (covariance matrix)\n",
      "\n",
      "$M_X = \\frac{1}{N-1}XX^T = U \\Sigma^2 U^T$ (correlation matrix)\n",
      "\n",
      "\n",
      "where R are the eigenvectors (or principal components), diagonal terms of $C_Y$ define the amount of variance contained within each component.\n",
      "\n",
      "$R=V=\\frac{1}{\\sqrt{N-1}} X^T U \\Sigma^{-1}$\n",
      "\n",
      "<img src='http://i.stack.imgur.com/IM6Fn.png' width=600>\n",
      "\n"
     ]
    },
    {
     "cell_type": "heading",
     "level": 2,
     "metadata": {},
     "source": [
      "Application to SDSS data"
     ]
    },
    {
     "cell_type": "markdown",
     "metadata": {},
     "source": [
      "<img src=\"http://www.astroml.org/_images/fig_spec_decompositions_1.png\" style=\"width: 500.0px; height: 400.0px;\">\n",
      "\n",
      "<p>Figure 7.4</p>\n",
      "<p>A comparison of the decomposition of SDSS spectra using PCA (left panel -\n",
      "see Section 7.3.1), ICA (middle panel - see Section 7.6) and NMF (right panel\n",
      "- see Section 7.4). The rank of the component increases from top to bottom. For\n",
      "the ICA and PCA the first component is the mean spectrum (NMF does not require\n",
      "mean subtraction). All of these techniques isolate a common set of spectral\n",
      "features (identifying features associated with the continuum and line\n",
      "emission). The ordering of the spectral components is technique dependent.</p>\n",
      "\n",
      "<img src=\"http://www.astroml.org/_images/fig_eigenvalues_1.png\" style=\"width: 500.0px; height: 375.0px;\" >\n",
      "<p>Figure 7.5 ``'scree plot'</p>\n",
      "<p>The eigenvalues for the PCA decomposition of the SDSS spectra described in\n",
      "Section 7.3.2. The top panel shows the decrease in eigenvalue as a function\n",
      "of the number of eigenvectors, with a break in the distribution at ten\n",
      "eigenvectors. The lower panel shows the cumulative sum of eigenvalues\n",
      "normalized to unity. <strong>94% of the variance in the SDSS spectra can be captured\n",
      "using the first ten eigenvectors</strong>.</p>\n",
      "\n",
      "<img src=\"http://www.astroml.org/_images/fig_spec_reconstruction_1.png\" style=\"width: 500.0px; height: 500.0px;\">\n",
      "<p>Figure 7.6</p>\n",
      "<p>The reconstruction of a particular spectrum from its eigenvectors. The input\n",
      "spectrum is shown in gray, and the partial reconstruction for progressively\n",
      "more terms is shown in black. The top panel shows only the mean of the set of\n",
      "spectra. By the time 20 PCA components are added, the reconstruction is very\n",
      "close to the input, as indicated by the expected total variance of 94%.</p>\n"
     ]
    },
    {
     "cell_type": "markdown",
     "metadata": {},
     "source": [
      "**Choosing the Level of Truncation**\n",
      "\n",
      "+ Too many components will introduce noise\n",
      "\n",
      "+ Too few may not capture the complete physical correlations\n",
      "\n",
      "+ Most common criterion: set a bound (normally 0.7-0.95) on the amount of variance we want to capture\n",
      "\n",
      "+ Cut at the turning point in the scree plot\n",
      "\n",
      "+ If not sharp turn, then use a log scree plot instead (if noise decay geometrically, variation in the eigenvalues should drop as a linear function??)\n"
     ]
    },
    {
     "cell_type": "heading",
     "level": 1,
     "metadata": {},
     "source": [
      "7.4 Non-negative Matrix Factorization (NMF)"
     ]
    },
    {
     "cell_type": "markdown",
     "metadata": {},
     "source": [
      "I don't understand.."
     ]
    },
    {
     "cell_type": "markdown",
     "metadata": {},
     "source": [
      "Jia Liu 4/21/2014"
     ]
    }
   ],
   "metadata": {}
  }
 ]
}
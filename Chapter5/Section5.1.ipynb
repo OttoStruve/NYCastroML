{
 "metadata": {
  "name": "Section5.1"
 },
 "nbformat": 3,
 "nbformat_minor": 0,
 "worksheets": [
  {
   "cells": [
    {
     "cell_type": "markdown",
     "metadata": {},
     "source": [
      "(Hogg, summarized by fed)"
     ]
    },
    {
     "cell_type": "markdown",
     "metadata": {},
     "source": [
      "In a Bayesian interpretation of the world there are no \"true values\": \n",
      "    everything exists in a distribution. \n",
      "    Really this statement refers to your preseption: \n",
      "    you can measure the world, and your measurements will fall in a distribution, \n",
      "    so for all you know, the world comes in a distribution."
     ]
    },
    {
     "cell_type": "markdown",
     "metadata": {},
     "source": [
      "You can perform dimensional analysis on your probability equations.\n",
      "In the equations below, D is data, theta is parameters, M is model, I is prior information. \n",
      "D is the data, for example the SDSS magnitudes, theta may be in the case of a mixture of gaussians the sigmas and means of the gaussians. The model is a mixture of 7 gaussians, or a KDE density estimate etc etc, then I encompasses your trust in the data, the fact you may believe more data better than other, but also your believes in the Universe, if you find a mathematical form to pu them in.\n",
      "    the first equation below has units of 1/Data (to whatever power the dimensions of your data is)\n",
      "    the second equation has units of 1/parameters (to power equal the dimentionality of your space)\n",
      "   "
     ]
    },
    {
     "cell_type": "code",
     "collapsed": false,
     "input": [
      "from IPython.display import Image,display\n",
      "i=Image(url=\"http://cosmo.nyu.edu/~fb55/data/eq0.png\")\n",
      "display(i)"
     ],
     "language": "python",
     "metadata": {},
     "outputs": [
      {
       "html": [
        "<img src=\"http://cosmo.nyu.edu/~fb55/data/eq0.png\"/>"
       ],
       "output_type": "display_data",
       "text": [
        "<IPython.core.display.Image at 0x1086c2c10>"
       ]
      }
     ],
     "prompt_number": 12
    },
    {
     "cell_type": "markdown",
     "metadata": {},
     "source": [
      "in the equation below the probability on the left of the equal sign has dimensions 1/parameters, but to the right you have 1/parameters* 1/data! the 1/z takes care of the proper normalization and dimension correction\n",
      "    "
     ]
    },
    {
     "cell_type": "code",
     "collapsed": false,
     "input": [
      "\n",
      "i=Image(url=\"http://cosmo.nyu.edu/~fb55/data/eq0.1.png\")\n",
      "display(i)\n",
      "i=Image(url=\"http://cosmo.nyu.edu/~fb55/data/eq0.2.png\")\n",
      "display(i)"
     ],
     "language": "python",
     "metadata": {},
     "outputs": [
      {
       "html": [
        "<img src=\"http://cosmo.nyu.edu/~fb55/data/eq0.1.png\"/>"
       ],
       "output_type": "display_data",
       "text": [
        "<IPython.core.display.Image at 0x107f35b50>"
       ]
      },
      {
       "html": [
        "<img src=\"http://cosmo.nyu.edu/~fb55/data/eq0.2.png\"/>"
       ],
       "output_type": "display_data",
       "text": [
        "<IPython.core.display.Image at 0x1086c2c10>"
       ]
      }
     ],
     "prompt_number": 13
    },
    {
     "cell_type": "markdown",
     "metadata": {},
     "source": [
      "Note however that normally you wont have to, nor you will be able to succesfully calculate 1/z."
     ]
    },
    {
     "cell_type": "markdown",
     "metadata": {},
     "source": [
      "Why Bayesian is better than frequenstist statistics (other than on obvious phylosofical grounds)? Often what you want to know is the probability of your data D given the parameters w, those parameters that you care about, but ignoring the parameters a that you do not care about. Not:"
     ]
    },
    {
     "cell_type": "code",
     "collapsed": false,
     "input": [
      "from IPython.display import Image,display\n",
      "i=Image(url=\"http://cosmo.nyu.edu/~fb55/data/eq1.png\")\n",
      "display(i)"
     ],
     "language": "python",
     "metadata": {},
     "outputs": [
      {
       "html": [
        "<img src=\"http://cosmo.nyu.edu/~fb55/data/eq1.png\"/>"
       ],
       "output_type": "display_data",
       "text": [
        "<IPython.core.display.Image at 0x1086c2790>"
       ]
      }
     ],
     "prompt_number": 14
    },
    {
     "cell_type": "markdown",
     "metadata": {},
     "source": [
      "but"
     ]
    },
    {
     "cell_type": "code",
     "collapsed": false,
     "input": [
      "from IPython.display import Image,display\n",
      "i=Image(url=\"http://cosmo.nyu.edu/~fb55/data/eq2.png\")\n",
      "display(i)"
     ],
     "language": "python",
     "metadata": {},
     "outputs": [
      {
       "html": [
        "<img src=\"http://cosmo.nyu.edu/~fb55/data/eq2.png\"/>"
       ],
       "output_type": "display_data",
       "text": [
        "<IPython.core.display.Image at 0x1086c2a50>"
       ]
      }
     ],
     "prompt_number": 15
    },
    {
     "cell_type": "markdown",
     "metadata": {},
     "source": [
      "which is "
     ]
    },
    {
     "cell_type": "code",
     "collapsed": false,
     "input": [
      "from IPython.display import Image,display\n",
      "i=Image(url=\"http://cosmo.nyu.edu/~fb55/data/eq3.png\")\n",
      "display(i)"
     ],
     "language": "python",
     "metadata": {},
     "outputs": [
      {
       "html": [
        "<img src=\"http://cosmo.nyu.edu/~fb55/data/eq3.png\"/>"
       ],
       "output_type": "display_data",
       "text": [
        "<IPython.core.display.Image at 0x1086c2e10>"
       ]
      }
     ],
     "prompt_number": 16
    },
    {
     "cell_type": "markdown",
     "metadata": {},
     "source": [
      "where you have marginalized over the nuisence paramaeters, those that you do not care about. This integral cannoe be performed in a frequentist framework!\n"
     ]
    }
   ],
   "metadata": {}
  }
 ]
}
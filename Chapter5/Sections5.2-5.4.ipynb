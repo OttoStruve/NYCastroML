{
 "metadata": {
  "name": ""
 },
 "nbformat": 3,
 "nbformat_minor": 0,
 "worksheets": [
  {
   "cells": [
    {
     "cell_type": "heading",
     "level": 1,
     "metadata": {},
     "source": [
      "Chapter 5, Sections 5.2-5.4"
     ]
    },
    {
     "cell_type": "heading",
     "level": 2,
     "metadata": {},
     "source": [
      "Section 5.2. Bayesian Priors"
     ]
    },
    {
     "cell_type": "heading",
     "level": 3,
     "metadata": {},
     "source": [
      "Section 5.2.1. Priors Assigned by Formal Rules"
     ]
    },
    {
     "cell_type": "markdown",
     "metadata": {},
     "source": [
      "Some terminology:\n",
      "\n",
      "- **informative prior**: A prior that incorporates actual data.\n",
      "- **uninformative prior**: A prior that does not use actual data, but could still be meaningful, *e.g.* 'the parameter must be non-negative'.\n",
      "- **improper prior**: A prior that cannot be formulated as a formal PDF.\n",
      "- **flat prior**: A prior that is constant, $p(\\theta|I) \\propto C$.  These can be improper."
     ]
    },
    {
     "cell_type": "heading",
     "level": 3,
     "metadata": {},
     "source": [
      "Section 5.2.2. The Principle of Maximum Entropy"
     ]
    },
    {
     "cell_type": "heading",
     "level": 3,
     "metadata": {},
     "source": [
      "Section 5.2.3. Conjugate Priors"
     ]
    },
    {
     "cell_type": "heading",
     "level": 3,
     "metadata": {},
     "source": [
      "Section 5.2.4. Empirical and Hierarchical Bayes Methods"
     ]
    },
    {
     "cell_type": "heading",
     "level": 2,
     "metadata": {},
     "source": [
      "Section 5.3. Bayesian Parameter Uncertainty Quantification"
     ]
    },
    {
     "cell_type": "heading",
     "level": 3,
     "metadata": {},
     "source": [
      "Section 5.3.1. Posterior Intervals"
     ]
    },
    {
     "cell_type": "heading",
     "level": 3,
     "metadata": {},
     "source": [
      "Section 5.3.2. Marginalization of Parameters"
     ]
    },
    {
     "cell_type": "heading",
     "level": 2,
     "metadata": {},
     "source": [
      "Section 5.4. Bayesian Model Selection"
     ]
    },
    {
     "cell_type": "heading",
     "level": 3,
     "metadata": {},
     "source": [
      "Section 5.4.1. Bayesian Hypothesis Testing"
     ]
    },
    {
     "cell_type": "heading",
     "level": 3,
     "metadata": {},
     "source": [
      "Section 5.4.2. Occam's Razor"
     ]
    },
    {
     "cell_type": "heading",
     "level": 3,
     "metadata": {},
     "source": [
      "Section 5.4.3. Information Criteria"
     ]
    }
   ],
   "metadata": {}
  }
 ]
}
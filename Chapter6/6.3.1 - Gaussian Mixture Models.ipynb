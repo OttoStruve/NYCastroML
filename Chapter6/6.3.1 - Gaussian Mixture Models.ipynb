{
 "metadata": {
  "name": "",
  "signature": "sha256:d9dec50272fa3256600b61641cb78954d43a16a3f0b82da774631d0c2f12a036"
 },
 "nbformat": 3,
 "nbformat_minor": 0,
 "worksheets": [
  {
   "cells": [
    {
     "cell_type": "code",
     "collapsed": false,
     "input": [
      "%matplotlib inline\n",
      "import matplotlib.pyplot as plt"
     ],
     "language": "python",
     "metadata": {},
     "outputs": [],
     "prompt_number": 4
    },
    {
     "cell_type": "code",
     "collapsed": false,
     "input": [
      "import numpy as np\n",
      "from scipy.stats import norm\n",
      "from IPython.html.widgets import interact\n",
      "from IPython.html import widgets"
     ],
     "language": "python",
     "metadata": {},
     "outputs": [],
     "prompt_number": 6
    },
    {
     "cell_type": "markdown",
     "metadata": {},
     "source": [
      "The IPython 2.0 [widget documentation](http://nbviewer.ipython.org/github/ipython/ipython/blob/2.x/examples/Interactive%20Widgets/Index.ipynb) is hard to find, but very useful."
     ]
    },
    {
     "cell_type": "markdown",
     "metadata": {},
     "source": [
      "---"
     ]
    },
    {
     "cell_type": "heading",
     "level": 1,
     "metadata": {},
     "source": [
      "Gaussian Mixture Models"
     ]
    },
    {
     "cell_type": "heading",
     "level": 3,
     "metadata": {},
     "source": [
      "__Example:__ Mixture of 2 Gaussians"
     ]
    },
    {
     "cell_type": "code",
     "collapsed": false,
     "input": [
      "mu1 = 0.\n",
      "mu2 = 2.\n",
      "x = np.linspace(-10., 10., 1000)\n",
      "\n",
      "def gaussian_mixture(sigma1, sigma2, c1):\n",
      "    \"\"\" sigma1 and sigma 2 are the standard deviations of the two \n",
      "        Gaussian mixture components. c1 is the mixture component \n",
      "        weight for the first component, and c2 = 1-c1\n",
      "    \"\"\"\n",
      "    c2 = 1-c1\n",
      "    mix = c1*norm.pdf(x, mu1, sigma1) + c2*norm.pdf(x, mu2, sigma2)\n",
      "    plt.figure(figsize=(6,6))\n",
      "    plt.plot(x, mix, marker=None, linestyle='-')\n",
      "    plt.xlim(-10,10)\n",
      "    plt.show()\n",
      "\n",
      "# define slider widgets for the parameters we want to vary\n",
      "sigma1 = widgets.FloatSliderWidget(min=0.05, max=5., step=0.05, value=0.2)\n",
      "sigma2 = widgets.FloatSliderWidget(min=0.05, max=5., step=0.05, value=1.1)\n",
      "c1 = widgets.FloatSliderWidget(min=0., max=1., step=0.05, value=0.1)\n",
      "\n",
      "interact(gaussian_mixture, \n",
      "         sigma1=sigma1, sigma2=sigma2, c1=c1)"
     ],
     "language": "python",
     "metadata": {},
     "outputs": [
      {
       "metadata": {},
       "output_type": "display_data",
       "png": "[encoded data removed]",
       "text": [
        "<matplotlib.figure.Figure at 0x107b70ad0>"
       ]
      },
      {
       "metadata": {},
       "output_type": "pyout",
       "prompt_number": 7,
       "text": [
        "<function __main__.gaussian_mixture>"
       ]
      }
     ],
     "prompt_number": 7
    },
    {
     "cell_type": "markdown",
     "metadata": {},
     "source": [
      "__Sampling from the mixture:__\n",
      "\n",
      "1) Sample a mixture component using the weights $c_k$  \n",
      "2) Sample a point from that component $x_i\\sim\\mathcal{N}(x\\vert\\theta_k)$  \n",
      "repeat...  "
     ]
    },
    {
     "cell_type": "code",
     "collapsed": false,
     "input": [
      "print \"Parameters: sigma1={}, sigma2={}, c1={}\".format(sigma1.value, \n",
      "                                                         sigma2.value, \n",
      "                                                         c1.value)"
     ],
     "language": "python",
     "metadata": {},
     "outputs": [
      {
       "output_type": "stream",
       "stream": "stdout",
       "text": [
        "Parameters: sigma1=0.2, sigma2=1.1, c1=0.1\n"
       ]
      }
     ],
     "prompt_number": 9
    },
    {
     "cell_type": "code",
     "collapsed": false,
     "input": [
      "# get whatever the parameter values were set to from the sliders\n",
      "c1 = c1.value\n",
      "c2 = 1 - c1\n",
      "\n",
      "# we'll now use numpy's random.choice() function to draw 10000 \n",
      "#     random choices of the mixture components, given the weights c1,c2\n",
      "n = 10000\n",
      "mix_component = np.random.choice([0,1], p=[c1,c2], size=n)\n",
      "rvs = np.append(norm.rvs(mu1, sigma1.value, size=sum(mix_component==0)),\n",
      "                norm.rvs(mu2, sigma2.value, size=sum(mix_component==1)))\n",
      "\n",
      "plt.figure(figsize=(6,6))\n",
      "plt.hist(rvs, bins=np.linspace(-10,10,100))\n",
      "plt.xlim(-10,10);"
     ],
     "language": "python",
     "metadata": {},
     "outputs": [
      {
       "metadata": {},
       "output_type": "display_data",
       "png": "[encoded data removed]",
       "text": [
        "<matplotlib.figure.Figure at 0x105654d10>"
       ]
      }
     ],
     "prompt_number": 10
    },
    {
     "cell_type": "markdown",
     "metadata": {},
     "source": [
      "__Using _scikit-learn_ to sample:__"
     ]
    },
    {
     "cell_type": "code",
     "collapsed": false,
     "input": [
      "from sklearn.mixture import GMM"
     ],
     "language": "python",
     "metadata": {},
     "outputs": [],
     "prompt_number": 11
    },
    {
     "cell_type": "code",
     "collapsed": false,
     "input": [
      "gmm = GMM(n_components=2)\n",
      "gmm.weights_ = np.array([c1, c2])\n",
      "gmm.means_ = np.array([[mu1], [mu2]])\n",
      "gmm.covars_ = np.array([[sigma1.value], [sigma2.value]])**2"
     ],
     "language": "python",
     "metadata": {},
     "outputs": [],
     "prompt_number": 12
    },
    {
     "cell_type": "code",
     "collapsed": false,
     "input": [
      "rvs2 = gmm.sample(n_samples=10000)\n",
      "plt.figure(figsize=(6,6))\n",
      "plt.hist(rvs2, bins=np.linspace(-10,10,100))\n",
      "plt.xlim(-10,10);"
     ],
     "language": "python",
     "metadata": {},
     "outputs": [
      {
       "metadata": {},
       "output_type": "display_data",
       "png": "[encoded data removed]",
       "text": [
        "<matplotlib.figure.Figure at 0x107b78390>"
       ]
      }
     ],
     "prompt_number": 13
    },
    {
     "cell_type": "markdown",
     "metadata": {},
     "source": [
      "---"
     ]
    },
    {
     "cell_type": "heading",
     "level": 1,
     "metadata": {},
     "source": [
      "K-means clustering"
     ]
    },
    {
     "cell_type": "code",
     "collapsed": false,
     "input": [
      "np.random.seed(42)\n",
      "# generate n data points\n",
      "n = 100\n",
      "\n",
      "mu1 = np.array([3., 2.])\n",
      "cov1 = np.array([[0.2,0.],\n",
      "                 [0.,0.2]])\n",
      "sample1 = np.random.multivariate_normal(mu1, cov=cov1, size=n//2)\n",
      "\n",
      "mu2 = np.array([5., 7.])\n",
      "cov2 = np.array([[0.5,0.],\n",
      "                 [0.,0.5]])\n",
      "sample2 = np.random.multivariate_normal(mu2, cov=cov2, size=n//2)\n",
      "\n",
      "data = np.vstack((sample1, sample2))"
     ],
     "language": "python",
     "metadata": {},
     "outputs": [],
     "prompt_number": 14
    },
    {
     "cell_type": "code",
     "collapsed": false,
     "input": [
      "plt.figure(figsize=(5,5))\n",
      "plt.plot(data[:,0], data[:,1], marker='.', linestyle='none')\n",
      "plt.xlabel('$x_1$')\n",
      "plt.ylabel('$x_2$')\n",
      "plt.xlim(0,10)\n",
      "plt.ylim(0,10)"
     ],
     "language": "python",
     "metadata": {},
     "outputs": [
      {
       "metadata": {},
       "output_type": "pyout",
       "prompt_number": 15,
       "text": [
        "(0, 10)"
       ]
      },
      {
       "metadata": {},
       "output_type": "display_data",
       "png": "[encoded data removed]",
       "text": [
        "<matplotlib.figure.Figure at 0x108dedd50>"
       ]
      }
     ],
     "prompt_number": 15
    },
    {
     "cell_type": "markdown",
     "metadata": {},
     "source": [
      "Let's assume someone hands us this data, and asks us to separate the points into two classes. A simple way to do this would be with the __k-means__ algorithm."
     ]
    },
    {
     "cell_type": "code",
     "collapsed": false,
     "input": [
      "np.random.seed(42)\n",
      "max_iterations = 100 # maximum number of iterations to do if stopping criteria isn't reached\n",
      "K = 2 # number of clusters\n",
      "tolerance = 0.1\n",
      "\n",
      "# initialize the cluster centers\n",
      "old_cntrs = np.random.uniform(0.,10.,size=(K,2)) # cluster centers\n",
      "start = old_cntrs.copy()\n",
      "for ii in range(max_iterations):\n",
      "    cntrs = old_cntrs\n",
      "    # get cluster labels for each data point\n",
      "    labels = np.array([np.linalg.norm(x-cntrs,axis=1).argmin() for x in data])\n",
      "    \n",
      "    # reevaluate the cluster centers as the mean of the points in each cluster\n",
      "    old_cntrs = np.array([np.mean(data[labels==label],axis=0) for label in np.unique(labels)])\n",
      "    \n",
      "    if np.sum(np.sqrt(np.sum((old_cntrs - cntrs)**2,axis=1))) < tolerance:\n",
      "        break"
     ],
     "language": "python",
     "metadata": {},
     "outputs": [],
     "prompt_number": 16
    },
    {
     "cell_type": "code",
     "collapsed": false,
     "input": [
      "plt.figure(figsize=(5,5))\n",
      "\n",
      "for label in np.unique(labels):\n",
      "    l, = plt.plot(data[labels==label,0], data[labels==label,1], \n",
      "                  marker='o', linestyle='none', alpha=0.75)\n",
      "    plt.plot(start[label,0], start[label,1], marker='+',\n",
      "             markeredgewidth=3., markersize=20, color=l.get_color())\n",
      "    plt.plot(old_cntrs[label,0], old_cntrs[label,1], marker='x',\n",
      "             markeredgewidth=3., markersize=20, color=l.get_color())\n",
      "plt.xlabel('$x_1$')\n",
      "plt.ylabel('$x_2$')\n",
      "plt.xlim(0,10)\n",
      "plt.ylim(0,10)"
     ],
     "language": "python",
     "metadata": {},
     "outputs": [
      {
       "metadata": {},
       "output_type": "pyout",
       "prompt_number": 17,
       "text": [
        "(0, 10)"
       ]
      },
      {
       "metadata": {},
       "output_type": "display_data",
       "png": "[encoded data removed]",
       "text": [
        "<matplotlib.figure.Figure at 0x107f60350>"
       ]
      }
     ],
     "prompt_number": 17
    },
    {
     "cell_type": "heading",
     "level": 2,
     "metadata": {},
     "source": [
      "Expectation Maximization (EM)"
     ]
    },
    {
     "cell_type": "markdown",
     "metadata": {},
     "source": [
      "A generalization of K-means.\n",
      "\n",
      "Instead of having hard cluster assignments, each point gets a probability that it belongs to each cluster. The cluster assignment probabilities are estimated during the \"Expectation\" step, and the properties of the clusters (e.g., mean and covariance) are estimated during the \"Maximization\" step. It's fairly straightforward to code this up."
     ]
    },
    {
     "cell_type": "code",
     "collapsed": false,
     "input": [
      "from scipy.stats import multivariate_normal # requires scipy-0.14.0 dev!"
     ],
     "language": "python",
     "metadata": {},
     "outputs": [],
     "prompt_number": 18
    },
    {
     "cell_type": "code",
     "collapsed": false,
     "input": [
      "np.random.seed(42)\n",
      "max_iterations = 100 # maximum number of iterations to do if stopping criteria isn't reached\n",
      "K = 2 # number of clusters\n",
      "ndim = 2 # number of dimensions\n",
      "ndata = len(data) # number of data points\n",
      "\n",
      "# initialize cluster weights, c_k, and properties of the clusters, mu_k, cov_k\n",
      "c_k = np.ones(K)/float(K)\n",
      "mu_k = np.random.uniform(0, 10, size=(K,ndim))\n",
      "cov_k = np.array([np.eye(ndim) for ii in range(K)])\n",
      "a_ik = np.zeros((ndata, K))\n",
      "\n",
      "for jj in range(max_iterations):\n",
      "    \n",
      "    # E-step: extimate assignment probabilities\n",
      "    for k in range(K):\n",
      "        a_ik[:,k] = c_k[k]*multivariate_normal.pdf(data, mu_k[k], cov_k[k])\n",
      "    a_ik /= np.sum(a_ik, axis=1)[:,np.newaxis]\n",
      "    \n",
      "    # M-step: estimate cluster weights and parameters\n",
      "    c_k = np.sum(a_ik, axis=0) / ndata\n",
      "    mu_k = np.sum(a_ik*data, axis=0) / np.sum(a_ik, axis=0)\n",
      "    \n",
      "    # TODO: estimate cov_k...eek not done!\n",
      "    break"
     ],
     "language": "python",
     "metadata": {},
     "outputs": [
      {
       "output_type": "stream",
       "stream": "stdout",
       "text": [
        "ERROR: ValueError: total size of new array must be unchanged [scipy.stats._multivariate]\n"
       ]
      },
      {
       "ename": "ValueError",
       "evalue": "total size of new array must be unchanged",
       "output_type": "pyerr",
       "traceback": [
        "\u001b[0;31m---------------------------------------------------------------------------\u001b[0m\n\u001b[0;31mValueError\u001b[0m                                Traceback (most recent call last)",
        "\u001b[0;32m<ipython-input-37-bc2bd6617224>\u001b[0m in \u001b[0;36m<module>\u001b[0;34m()\u001b[0m\n\u001b[1;32m     15\u001b[0m     \u001b[0;31m# E-step: extimate assignment probabilities\u001b[0m\u001b[0;34m\u001b[0m\u001b[0;34m\u001b[0m\u001b[0m\n\u001b[1;32m     16\u001b[0m     \u001b[0;32mfor\u001b[0m \u001b[0mk\u001b[0m \u001b[0;32min\u001b[0m \u001b[0mrange\u001b[0m\u001b[0;34m(\u001b[0m\u001b[0mK\u001b[0m\u001b[0;34m)\u001b[0m\u001b[0;34m:\u001b[0m\u001b[0;34m\u001b[0m\u001b[0m\n\u001b[0;32m---> 17\u001b[0;31m         \u001b[0ma_ik\u001b[0m\u001b[0;34m[\u001b[0m\u001b[0;34m:\u001b[0m\u001b[0;34m,\u001b[0m\u001b[0mk\u001b[0m\u001b[0;34m]\u001b[0m \u001b[0;34m=\u001b[0m \u001b[0mc_k\u001b[0m\u001b[0;34m[\u001b[0m\u001b[0mk\u001b[0m\u001b[0;34m]\u001b[0m\u001b[0;34m*\u001b[0m\u001b[0mmultivariate_normal\u001b[0m\u001b[0;34m.\u001b[0m\u001b[0mpdf\u001b[0m\u001b[0;34m(\u001b[0m\u001b[0mdata\u001b[0m\u001b[0;34m,\u001b[0m \u001b[0mmu_k\u001b[0m\u001b[0;34m[\u001b[0m\u001b[0mk\u001b[0m\u001b[0;34m]\u001b[0m\u001b[0;34m,\u001b[0m \u001b[0mcov_k\u001b[0m\u001b[0;34m[\u001b[0m\u001b[0mk\u001b[0m\u001b[0;34m]\u001b[0m\u001b[0;34m)\u001b[0m\u001b[0;34m\u001b[0m\u001b[0m\n\u001b[0m\u001b[1;32m     18\u001b[0m     \u001b[0ma_ik\u001b[0m \u001b[0;34m/=\u001b[0m \u001b[0mnp\u001b[0m\u001b[0;34m.\u001b[0m\u001b[0msum\u001b[0m\u001b[0;34m(\u001b[0m\u001b[0ma_ik\u001b[0m\u001b[0;34m,\u001b[0m \u001b[0maxis\u001b[0m\u001b[0;34m=\u001b[0m\u001b[0;36m1\u001b[0m\u001b[0;34m)\u001b[0m\u001b[0;34m[\u001b[0m\u001b[0;34m:\u001b[0m\u001b[0;34m,\u001b[0m\u001b[0mnp\u001b[0m\u001b[0;34m.\u001b[0m\u001b[0mnewaxis\u001b[0m\u001b[0;34m]\u001b[0m\u001b[0;34m\u001b[0m\u001b[0m\n\u001b[1;32m     19\u001b[0m \u001b[0;34m\u001b[0m\u001b[0m\n",
        "\u001b[0;32m/Users/adrian/projects/scipy/build/lib.macosx-10.5-x86_64-2.7/scipy/stats/_multivariate.py\u001b[0m in \u001b[0;36mpdf\u001b[0;34m(self, x, mean, cov)\u001b[0m\n\u001b[1;32m    376\u001b[0m \u001b[0;34m\u001b[0m\u001b[0m\n\u001b[1;32m    377\u001b[0m         \"\"\"\n\u001b[0;32m--> 378\u001b[0;31m         \u001b[0mdim\u001b[0m\u001b[0;34m,\u001b[0m \u001b[0mmean\u001b[0m\u001b[0;34m,\u001b[0m \u001b[0mcov\u001b[0m \u001b[0;34m=\u001b[0m \u001b[0m_process_parameters\u001b[0m\u001b[0;34m(\u001b[0m\u001b[0mNone\u001b[0m\u001b[0;34m,\u001b[0m \u001b[0mmean\u001b[0m\u001b[0;34m,\u001b[0m \u001b[0mcov\u001b[0m\u001b[0;34m)\u001b[0m\u001b[0;34m\u001b[0m\u001b[0m\n\u001b[0m\u001b[1;32m    379\u001b[0m         \u001b[0mx\u001b[0m \u001b[0;34m=\u001b[0m \u001b[0m_process_quantiles\u001b[0m\u001b[0;34m(\u001b[0m\u001b[0mx\u001b[0m\u001b[0;34m,\u001b[0m \u001b[0mdim\u001b[0m\u001b[0;34m)\u001b[0m\u001b[0;34m\u001b[0m\u001b[0m\n\u001b[1;32m    380\u001b[0m         \u001b[0mprec_U\u001b[0m\u001b[0;34m,\u001b[0m \u001b[0mlog_det_cov\u001b[0m \u001b[0;34m=\u001b[0m \u001b[0m_psd_pinv_decomposed_log_pdet\u001b[0m\u001b[0;34m(\u001b[0m\u001b[0mcov\u001b[0m\u001b[0;34m)\u001b[0m\u001b[0;34m\u001b[0m\u001b[0m\n",
        "\u001b[0;32m/Users/adrian/projects/scipy/build/lib.macosx-10.5-x86_64-2.7/scipy/stats/_multivariate.py\u001b[0m in \u001b[0;36m_process_parameters\u001b[0;34m(dim, mean, cov)\u001b[0m\n\u001b[1;32m     51\u001b[0m     \u001b[0;32mif\u001b[0m \u001b[0mdim\u001b[0m \u001b[0;34m==\u001b[0m \u001b[0;36m1\u001b[0m\u001b[0;34m:\u001b[0m\u001b[0;34m\u001b[0m\u001b[0m\n\u001b[1;32m     52\u001b[0m         \u001b[0mmean\u001b[0m\u001b[0;34m.\u001b[0m\u001b[0mshape\u001b[0m \u001b[0;34m=\u001b[0m \u001b[0;34m(\u001b[0m\u001b[0;36m1\u001b[0m\u001b[0;34m,\u001b[0m\u001b[0;34m)\u001b[0m\u001b[0;34m\u001b[0m\u001b[0m\n\u001b[0;32m---> 53\u001b[0;31m         \u001b[0mcov\u001b[0m\u001b[0;34m.\u001b[0m\u001b[0mshape\u001b[0m \u001b[0;34m=\u001b[0m \u001b[0;34m(\u001b[0m\u001b[0;36m1\u001b[0m\u001b[0;34m,\u001b[0m \u001b[0;36m1\u001b[0m\u001b[0;34m)\u001b[0m\u001b[0;34m\u001b[0m\u001b[0m\n\u001b[0m\u001b[1;32m     54\u001b[0m \u001b[0;34m\u001b[0m\u001b[0m\n\u001b[1;32m     55\u001b[0m     \u001b[0;32mif\u001b[0m \u001b[0mmean\u001b[0m\u001b[0;34m.\u001b[0m\u001b[0mndim\u001b[0m \u001b[0;34m!=\u001b[0m \u001b[0;36m1\u001b[0m \u001b[0;32mor\u001b[0m \u001b[0mmean\u001b[0m\u001b[0;34m.\u001b[0m\u001b[0mshape\u001b[0m\u001b[0;34m[\u001b[0m\u001b[0;36m0\u001b[0m\u001b[0;34m]\u001b[0m \u001b[0;34m!=\u001b[0m \u001b[0mdim\u001b[0m\u001b[0;34m:\u001b[0m\u001b[0;34m\u001b[0m\u001b[0m\n",
        "\u001b[0;31mValueError\u001b[0m: total size of new array must be unchanged"
       ]
      }
     ],
     "prompt_number": 37
    },
    {
     "cell_type": "code",
     "collapsed": false,
     "input": [],
     "language": "python",
     "metadata": {},
     "outputs": [
      {
       "metadata": {},
       "output_type": "pyout",
       "prompt_number": 29,
       "text": [
        "array([ 0.24966564,  0.75033436])"
       ]
      }
     ],
     "prompt_number": 29
    },
    {
     "cell_type": "code",
     "collapsed": false,
     "input": [],
     "language": "python",
     "metadata": {},
     "outputs": []
    }
   ],
   "metadata": {}
  }
 ]
}
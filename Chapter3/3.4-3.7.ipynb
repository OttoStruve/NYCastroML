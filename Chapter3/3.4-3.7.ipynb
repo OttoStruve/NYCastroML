{
 "metadata": {
  "name": ""
 },
 "nbformat": 3,
 "nbformat_minor": 0,
 "worksheets": [
  {
   "cells": [
    {
     "cell_type": "heading",
     "level": 2,
     "metadata": {},
     "source": [
      "Central Limit Theorem"
     ]
    },
    {
     "cell_type": "markdown",
     "metadata": {},
     "source": [
      "\"The mean of $N$ values $x_i$, drawn from that distribution will approximately follow a Gaussian distribution $N(\\mu,\\sigma/\\sqrt{N})$, with the approximation accuracy improving with $N$.\"\n",
      "\n",
      "Interpret as:\n",
      "__More data => Smaller error bars__\n",
      "\n",
      "Three notes:\n",
      "\n",
      "1. Does not work with some distributions (e.g. Cauchy distribution)\n",
      "\n",
      "2. Some distributions converge faster than $1/\\sqrt{N}$ (e.g. Uniform distribution => converges as $1/N$)\n",
      "\n",
      "3. When the optimal procedure is unknown, use maximum likelihood or Bayesian method (Chapter 5)"
     ]
    },
    {
     "cell_type": "heading",
     "level": 2,
     "metadata": {},
     "source": [
      "Bivariate Distributions"
     ]
    },
    {
     "cell_type": "markdown",
     "metadata": {},
     "source": [
      "Lets begin with a bivariate gaussian distribution, along two principal axes rotated by 45 degrees with respect to the $x$ and $y$ axes."
     ]
    },
    {
     "cell_type": "code",
     "collapsed": false,
     "input": [
      "%pylab inline\n",
      "import numpy as np\n",
      "import matplotlib.pyplot as plt\n",
      "import scipy.constants as cst\n",
      "from scipy import stats\n",
      "\n",
      "dist_1 = stats.norm(0,1.0)\n",
      "dist_2 = stats.norm(0,2.0)\n",
      "\n",
      "axis_1 = dist_1.rvs(1000)\n",
      "axis_2 = dist_2.rvs(1000)\n",
      "\n",
      "x = axis_1*cos(cst.pi/4.0) + axis_2*sin(cst.pi/4.0)\n",
      "y = -axis_1*sin(cst.pi/4.0) + axis_2*cos(cst.pi/4.0)\n",
      "\n",
      "plt.plot(x,y, 'r.')\n",
      "plt.show()"
     ],
     "language": "python",
     "metadata": {},
     "outputs": [
      {
       "output_type": "stream",
       "stream": "stdout",
       "text": [
        "Populating the interactive namespace from numpy and matplotlib\n"
       ]
      },
      {
       "metadata": {},
       "output_type": "display_data",
       "png": "[encoded data removed]",
       "text": [
        "<matplotlib.figure.Figure at 0x1084eef50>"
       ]
      }
     ],
     "prompt_number": 3
    },
    {
     "cell_type": "markdown",
     "metadata": {},
     "source": [
      "Now let's pretend we don't know what the rotation angle is. How would we go about solving for it?\n",
      "\n",
      "First we need to find the sample mean and the sample standard deviation for each variable ($x$ and $y$):\n",
      "\n",
      "$$ \\bar{x} = \\frac{1}{N}\\sum^{N}_{i=1}x_i$$\n",
      "\n",
      "$$s = \\sqrt{\\frac{1}{N-1} \\sum^{N}_{i=1}(x_i-\\bar{x})^2}$$\n",
      "\n",
      "Then we use the formula:\n",
      "\n",
      "$$ {\\rm tan}(2\\alpha) = 2 \\frac{s_xs_y}{s_x^2 - s_y^2}r$$\n",
      "\n",
      "where $\\alpha$ is the rotation angle and $r$ is Pearson's sample correlation coefficient"
     ]
    },
    {
     "cell_type": "code",
     "collapsed": false,
     "input": [
      "import scipy\n",
      "import math\n",
      "\n",
      "mu_x = np.mean(x)\n",
      "mu_y = np.mean(y)\n",
      "\n",
      "s_x = scipy.std(x)\n",
      "s_y = scipy.std(y)\n",
      "\n",
      "corr_coeff, p_value = stats.pearsonr(x, y)\n",
      "\n",
      "alpha = 0.5 * math.atan(2.0*(s_x*s_y)/(s_x*s_x - s_y*s_y) * corr_coeff) * 180.0/cst.pi\n",
      "\n",
      "print mu_x,mu_y\n",
      "print s_x, s_y\n",
      "print corr_coeff\n",
      "\n",
      "print alpha"
     ],
     "language": "python",
     "metadata": {},
     "outputs": [
      {
       "output_type": "stream",
       "stream": "stdout",
       "text": [
        "0.022963693959 0.0434320596502\n",
        "1.5455812376 1.62667327704\n",
        "0.600658537137\n",
        "-42.5658788472\n"
       ]
      }
     ],
     "prompt_number": 4
    },
    {
     "cell_type": "markdown",
     "metadata": {},
     "source": [
      "Now that we know the angle $\\alpha$, we can move to a coordinate axis, rotated by $\\alpha$\n",
      "\n",
      "Wait until Chapter 4 (?) to learn how to calculate the error on $\\alpha$\n",
      "\n",
      "\n"
     ]
    },
    {
     "cell_type": "heading",
     "level": 3,
     "metadata": {},
     "source": [
      "Things to Remember"
     ]
    },
    {
     "cell_type": "markdown",
     "metadata": {},
     "source": [
      "__1. Bivariate distributions may be correlated__\n",
      "\n",
      "__2. If the correlation is \"maximal\", Pearson's correlation coefficient will be unity ($r = 1$)__\n",
      "\n",
      "__3. If there is no correlation, $r = 0$__"
     ]
    },
    {
     "cell_type": "heading",
     "level": 2,
     "metadata": {},
     "source": [
      "Testing Correlation"
     ]
    },
    {
     "cell_type": "markdown",
     "metadata": {},
     "source": [
      "Let's say we have a table of data, and we want to see if two parameters (rows) are correlated. There are many ways of doing this, but let's look at three of them: Pearson's, Spearman's, and Kendall's correlation coefficient.\n",
      "\n",
      "Pearson's correlation coefficient:\n",
      "$$ r = \\frac{\\sum^N_{i=1}(x_i-\\bar{x})(y_i-\\bar{y})}{\\sqrt{\\sum^N_{i=1}(x_i-\\bar{x})^2}\\sqrt{\\sum^N_{i=1}(y_i-\\bar{y})^2}}$$\n",
      "\n",
      "This works best when first there are no measurement errors and second there are no outliers. \n",
      "\n",
      "For most cases, the Spearman's and Kendall's correlation coefficients are better because they are distribution independent. Spearman's is faster to compute, but Kendall's approaches normality faster.\n",
      "\n",
      "Let's see what we get for our two \"perfectly correlated\" data sets, $x$ and $y$, and our two uncorrelated data sets, axis_1 and axis_2:"
     ]
    },
    {
     "cell_type": "code",
     "collapsed": false,
     "input": [
      "corr_coeff, p_value = stats.pearsonr(x, y)\n",
      "rho, p_value = stats.spearmanr(x, y)\n",
      "tau, p_value = stats.kendalltau(x, y)\n",
      "print corr_coeff, rho, tau\n",
      "\n",
      "corr_coeff, p_value = stats.pearsonr(axis_1, axis_2)\n",
      "rho, p_value = stats.spearmanr(axis_1, axis_2)\n",
      "tau, p_value = stats.kendalltau(axis_1, axis_2)\n",
      "print corr_coeff, rho, tau"
     ],
     "language": "python",
     "metadata": {},
     "outputs": [
      {
       "output_type": "stream",
       "stream": "stdout",
       "text": [
        "0.600658537137 0.575086895087 0.406194194194\n",
        "-0.0638579878216"
       ]
      },
      {
       "output_type": "stream",
       "stream": "stdout",
       "text": [
        " -0.0500472020472 -0.0335935935936\n"
       ]
      }
     ],
     "prompt_number": 5
    },
    {
     "cell_type": "markdown",
     "metadata": {},
     "source": [
      "Let's see what happens when we add 200 outlier points ($\\sigma = 5.0$) to the distributions now.\n"
     ]
    },
    {
     "cell_type": "code",
     "collapsed": false,
     "input": [
      "dist_1_outlier = stats.norm(0,5.0)\n",
      "dist_2_outlier = stats.norm(0,5.0)\n",
      "\n",
      "axis_1_outlier = dist_1_outlier.rvs(200)\n",
      "axis_2_outlier = dist_2_outlier.rvs(200)\n",
      "\n",
      "axis_1_merged = numpy.concatenate([axis_1,axis_1_outlier])\n",
      "axis_2_merged = numpy.concatenate([axis_2,axis_2_outlier])\n",
      "\n",
      "x_with_outliers = axis_1_merged*cos(cst.pi/4.0) + axis_2_merged*sin(cst.pi/4.0)\n",
      "y_with_outliers = -axis_1_merged*sin(cst.pi/4.0) + axis_2_merged*cos(cst.pi/4.0)\n",
      "\n",
      "plt.plot(x_with_outliers,y_with_outliers, 'r.')\n",
      "plt.show()"
     ],
     "language": "python",
     "metadata": {},
     "outputs": [
      {
       "metadata": {},
       "output_type": "display_data",
       "png": "[encoded data removed]",
       "text": [
        "<matplotlib.figure.Figure at 0x109c4bcd0>"
       ]
      }
     ],
     "prompt_number": 6
    },
    {
     "cell_type": "markdown",
     "metadata": {},
     "source": [
      "Now let's see what our correlation coefficients become"
     ]
    },
    {
     "cell_type": "code",
     "collapsed": false,
     "input": [
      "corr_coeff, p_value = stats.pearsonr(x_with_outliers, y_with_outliers)\n",
      "rho, p_value = stats.spearmanr(x_with_outliers, y_with_outliers)\n",
      "tau, p_value = stats.kendalltau(x_with_outliers, y_with_outliers)\n",
      "print corr_coeff, rho, tau\n",
      "\n",
      "corr_coeff, p_value = stats.pearsonr(axis_1_merged, axis_2_merged)\n",
      "rho, p_value = stats.spearmanr(axis_1_merged, axis_2_merged)\n",
      "tau, p_value = stats.kendalltau(axis_1_merged, axis_2_merged)\n",
      "print corr_coeff, rho, tau"
     ],
     "language": "python",
     "metadata": {},
     "outputs": [
      {
       "output_type": "stream",
       "stream": "stdout",
       "text": [
        "0.136470036736 0.347901554098 0.261876563803\n",
        "-0.0821291983352"
       ]
      },
      {
       "output_type": "stream",
       "stream": "stdout",
       "text": [
        " -0.0732734328288 -0.0499972199055\n"
       ]
      }
     ],
     "prompt_number": 7
    },
    {
     "cell_type": "markdown",
     "metadata": {},
     "source": [
      "If the populations are drawn from uncorrelated Gaussian distributions, student's $t$-test (using Pearson's correlation coefficient) can be used to quickly determine the probability of correlation between two populations. With outliers though (i.e. non-Gaussianities) Pearson's correlation coefficient does not do so well. \n",
      "\n",
      "__Two options:__\n",
      "\n",
      "1. Solve for student's $t$-test using Spearman's correlation coefficient, $r_s$, instead of Pearson's correlation coefficient\n",
      "\n",
      "2. Determine level of correlation based on Kendall's correlation coefficient, $\\tau$"
     ]
    },
    {
     "cell_type": "markdown",
     "metadata": {},
     "source": [
      "Now let's try to solve for the rotation angle, $\\alpha$:"
     ]
    },
    {
     "cell_type": "code",
     "collapsed": false,
     "input": [
      "mu_x_o = np.mean(x_with_outliers)\n",
      "mu_y_o = np.mean(y_with_outliers)\n",
      "\n",
      "s_x_o = scipy.std(x_with_outliers)\n",
      "s_y_o = scipy.std(y_with_outliers)\n",
      "\n",
      "corr_coeff_with_outliers, p_value_with_outliers = stats.pearsonr(x_with_outliers, y_with_outliers)\n",
      "\n",
      "alpha_with_outliers = 0.5 * math.atan(2.0*(s_x_o*s_y_o)/(s_x_o*s_x_o - s_y_o*s_y_o) * corr_coeff_with_outliers) * 180.0/cst.pi\n",
      "\n",
      "print mu_x_o,mu_y_o\n",
      "print s_x_o, s_y_o\n",
      "print corr_coeff\n",
      "\n",
      "print alpha_with_outliers"
     ],
     "language": "python",
     "metadata": {},
     "outputs": [
      {
       "output_type": "stream",
       "stream": "stdout",
       "text": [
        "-0.0413120303467 0.0183584195064\n",
        "2.31109174014 2.50744981774\n",
        "-0.0821291983352\n",
        "-29.5560323623\n"
       ]
      }
     ],
     "prompt_number": 8
    },
    {
     "cell_type": "markdown",
     "metadata": {},
     "source": [
      "With outliers, the correlation angle is significantly off. To fix this, we can use the inner quartile range as an estimate of the variance. Instead of $s_x$, we use $\\sigma_{G,x}$ and the same for $y$. To get the Pearson's correlation coefficient $r$ based on inner quartiles, we have to do something a bit more complicated. We coordinate transform into $u$-$w$ space, where $u$ and $w$ are uncorrelated:\n",
      "\n",
      "$$u = \\frac{\\sqrt{2}}{2} \\left( \\frac{x}{\\sigma_{G,x}} + \\frac{y}{\\sigma_{G,y}} \\right)$$\n",
      "\n",
      "$$w = \\frac{\\sqrt{2}}{2} \\left( \\frac{x}{\\sigma_{G,x}} - \\frac{y}{\\sigma_{G,y}} \\right)$$\n",
      "\n",
      "$$\\rho = \\frac{\\sigma_{G,u} - \\sigma_{G,w}}{\\sigma_{G,u} + \\sigma_{G,w}}$$\n",
      "\n",
      "We use the same equation to solve for $\\alpha$, except with $\\rho$ in place of $r$:"
     ]
    },
    {
     "cell_type": "code",
     "collapsed": false,
     "input": [
      "from astroML import stats as MLstats\n",
      "\n",
      "sigma_g_x = MLstats.sigmaG(x_with_outliers)\n",
      "sigma_g_y = MLstats.sigmaG(y_with_outliers)\n",
      "\n",
      "u = sqrt(2)/2*(x_with_outliers/sigma_g_x + y_with_outliers/sigma_g_y)\n",
      "w = sqrt(2)/2*(x_with_outliers/sigma_g_x - y_with_outliers/sigma_g_y)\n",
      "\n",
      "s_u = scipy.std(u)\n",
      "s_w = scipy.std(w)\n",
      "sigma_g_u = MLstats.sigmaG(u)\n",
      "sigma_g_w = MLstats.sigmaG(w)\n",
      "\n",
      "rho = (sigma_g_u*sigma_g_u - sigma_g_w*sigma_g_w)/(sigma_g_u*sigma_g_u + sigma_g_w*sigma_g_w)\n",
      "corr_coeff, p_value = stats.pearsonr(u, w)\n",
      "print rho, corr_coeff\n",
      "\n",
      "alpha = 0.5 * math.atan(2.0 * sigma_g_x * sigma_g_y /(sigma_g_x*sigma_g_x - sigma_g_y*sigma_g_y) * rho) * 180.0/cst.pi\n",
      "\n",
      "print alpha"
     ],
     "language": "python",
     "metadata": {},
     "outputs": [
      {
       "output_type": "stream",
       "stream": "stdout",
       "text": [
        "0.567263110614 -0.00263938923357\n",
        "-41.035175232\n"
       ]
      }
     ],
     "prompt_number": 9
    },
    {
     "cell_type": "markdown",
     "metadata": {},
     "source": [
      "So, using a different estimator based on the inner quartile ($\\sigma_G$) instead of the sample standard deviation($\\sigma$), we have recovered the rotation angle"
     ]
    },
    {
     "cell_type": "heading",
     "level": 3,
     "metadata": {},
     "source": [
      "Things to Remember"
     ]
    },
    {
     "cell_type": "markdown",
     "metadata": {},
     "source": [
      "__1. To test correlation, Pearson's correlation coefficient may not be sufficient__\n",
      "\n",
      "__2. If outliers are present, use the median, not the mean__\n",
      "\n",
      "__3. If outliers are present, use Spearman $r_s$, or Kendall $\\tau$ to test for correlation in data__\n",
      "\n",
      "__4. If outliers are present use $\\sigma_G$, not $\\sigma$ when trying to recover the rotation angle, $\\alpha$__"
     ]
    },
    {
     "cell_type": "heading",
     "level": 2,
     "metadata": {},
     "source": [
      "Monte Carlo Methods for Arbitrary Distributions"
     ]
    },
    {
     "cell_type": "markdown",
     "metadata": {},
     "source": [
      "Random number generators generally draw from a flat distribution between 0 and 1. How do we turn this into any random distribution?\n",
      "\n",
      "Let's use binary stars as an example. A good approximation for the birth orbit of a population of binary stars is:\n",
      "\n",
      "1. an orbital separation draw from a flat distribution in log space, ranging from 1-1000 AU\n",
      "2. an eccentricity drawn from a flat distribution in $e^2$ space, ranging from 0-1\n",
      "3. a primary mass drawn from Kroupa IMF: \n",
      "\n",
      "$$\\frac{dn}{dM} \\propto M^{-2.7}: 1 < M < 10 $$\n",
      "\n",
      "Let's start with the orbital separation (easy):"
     ]
    },
    {
     "cell_type": "code",
     "collapsed": false,
     "input": [
      "ran_A = np.random.sample(1000) * 1000.0\n",
      "plt.hist(ran_A, bins=20)\n",
      "plt.show()"
     ],
     "language": "python",
     "metadata": {},
     "outputs": [
      {
       "metadata": {},
       "output_type": "display_data",
       "png": "[encoded data removed]",
       "text": [
        "<matplotlib.figure.Figure at 0x109c3d350>"
       ]
      }
     ],
     "prompt_number": 10
    },
    {
     "cell_type": "markdown",
     "metadata": {},
     "source": [
      "Now let's work on the eccentricity (easy):"
     ]
    },
    {
     "cell_type": "code",
     "collapsed": false,
     "input": [
      "ran_e_2 = np.random.sample(1000)\n",
      "ran_e = sqrt(ran_e_2)\n",
      "plt.hist(ran_e, bins=20)\n",
      "plt.show()"
     ],
     "language": "python",
     "metadata": {},
     "outputs": [
      {
       "metadata": {},
       "output_type": "display_data",
       "png": "[encoded data removed]",
       "text": [
        "<matplotlib.figure.Figure at 0x109c5a090>"
       ]
      }
     ],
     "prompt_number": 11
    },
    {
     "cell_type": "markdown",
     "metadata": {},
     "source": [
      "Now let's work on the initial mass of the primary (harder).\n",
      "\n",
      "The normalized function integrates to unity:\n",
      "$$1 = C \\int_1^{10}M'^{-2.7} dM'$$\n",
      "\n",
      "We can now solve for the normalization constant:\n",
      "$$C = \\frac{-1.7}{10^{-1.7} - 1}$$\n",
      "\n",
      "Next we choose a random variable, $v$, which corresponds to the fraction of the function's area. Finding a mass chosen from our power law distribution is now reduced to finding the upper limit of the definite integral with our random area:\n",
      "\n",
      "$$v = C \\int_1^{M} M'^{-2.7} dM'$$\n",
      "\n",
      "Solve for $M$:\n",
      "\n",
      "$$M = \\left[ \\frac{-1.7}{C}v + 1 \\right]^{-1/1.7}$$"
     ]
    },
    {
     "cell_type": "code",
     "collapsed": false,
     "input": [
      "ran_var = np.random.sample(1000)\n",
      "C = -1.7/(10**(-1.7) - 1)\n",
      "\n",
      "ran_M = np.power(-1.7/C*ran_var + 1,-1/1.7)\n",
      "plt.hist(ran_M, bins=20)\n",
      "plt.show()"
     ],
     "language": "python",
     "metadata": {},
     "outputs": [
      {
       "metadata": {},
       "output_type": "display_data",
       "png": "[encoded data removed]",
       "text": [
        "<matplotlib.figure.Figure at 0x109c53410>"
       ]
      }
     ],
     "prompt_number": 12
    },
    {
     "cell_type": "markdown",
     "metadata": {},
     "source": [
      "To Summarize:\n",
      "\n",
      "__Now if we draw random numbers from a flat distribution between 0 and 1, and plug into the inverse of the cumulative distribution function, we can generate a set of random variables based on any arbitrary distribution.__\n",
      "\n",
      "\n",
      "When you cannot solve analytically, you can use rejection method (see numerical recipes)"
     ]
    }
   ],
   "metadata": {}
  }
 ]
}